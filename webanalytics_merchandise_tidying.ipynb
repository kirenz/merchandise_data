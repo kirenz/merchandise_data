{
 "cells": [
  {
   "cell_type": "markdown",
   "metadata": {},
   "source": [
    "**Webanalytics**<br/>\n",
    "Prof. Dr. Jan Kirenz <br/>\n",
    "Hochschule der Medien Stuttgart"
   ]
  },
  {
   "cell_type": "code",
   "execution_count": 35,
   "metadata": {},
   "outputs": [],
   "source": [
    "import re\n",
    "import numpy as np\n",
    "import pandas as pd\n",
    "from pandas.api.types import CategoricalDtype\n",
    "import matplotlib.pyplot as plt\n",
    "import seaborn as sns"
   ]
  },
  {
   "cell_type": "markdown",
   "metadata": {},
   "source": [
    "## 1 Import data"
   ]
  },
  {
   "cell_type": "code",
   "execution_count": 36,
   "metadata": {
    "scrolled": true
   },
   "outputs": [],
   "source": [
    "PATH = '/Users/jankirenz/Dropbox/Data/' \n",
    "df = pd.read_csv(PATH + 'Webanalytics_20100101-20181217.csv', delimiter=',', skiprows=5, decimal=',')"
   ]
  },
  {
   "cell_type": "markdown",
   "metadata": {},
   "source": [
    "## 2 Tidying data"
   ]
  },
  {
   "cell_type": "markdown",
   "metadata": {},
   "source": [
    "### 2.1 Data inspection"
   ]
  },
  {
   "cell_type": "markdown",
   "metadata": {},
   "source": [
    "First of all, let's take a look at the variables (columns) in the data set."
   ]
  },
  {
   "cell_type": "code",
   "execution_count": 37,
   "metadata": {},
   "outputs": [
    {
     "name": "stdout",
     "output_type": "stream",
     "text": [
      "<class 'pandas.core.frame.DataFrame'>\n",
      "RangeIndex: 1220 entries, 0 to 1219\n",
      "Data columns (total 15 columns):\n",
      "Default Channel Grouping (Standard-Channelgruppierung)    1220 non-null object\n",
      "Alter                                                     1220 non-null object\n",
      "Land                                                      1220 non-null object\n",
      "Absprungrate                                              1220 non-null object\n",
      "Nutzer                                                    1220 non-null object\n",
      "Seiten/Sitzung                                            1220 non-null float64\n",
      "Durchschnittl. Sitzungsdauer                              1220 non-null object\n",
      "Eindeutige Ereignisse                                     1220 non-null object\n",
      "Hinzufügungen des Produkts zum Einkaufswagen              1220 non-null object\n",
      "Purchase Completed (Abschlüsse für Zielvorhaben 1)        1220 non-null object\n",
      "E-Commerce-Conversion-Rate                                1220 non-null object\n",
      "Durchschn. Preis                                          1220 non-null object\n",
      "Durchschn. Bestellwert                                    1220 non-null object\n",
      "Gesamtwert                                                1220 non-null object\n",
      "Umsatz                                                    1220 non-null object\n",
      "dtypes: float64(1), object(14)\n",
      "memory usage: 143.0+ KB\n"
     ]
    }
   ],
   "source": [
    "df.info()"
   ]
  },
  {
   "cell_type": "code",
   "execution_count": 38,
   "metadata": {
    "scrolled": false
   },
   "outputs": [
    {
     "data": {
      "text/html": [
       "<div>\n",
       "<style scoped>\n",
       "    .dataframe tbody tr th:only-of-type {\n",
       "        vertical-align: middle;\n",
       "    }\n",
       "\n",
       "    .dataframe tbody tr th {\n",
       "        vertical-align: top;\n",
       "    }\n",
       "\n",
       "    .dataframe thead th {\n",
       "        text-align: right;\n",
       "    }\n",
       "</style>\n",
       "<table border=\"1\" class=\"dataframe\">\n",
       "  <thead>\n",
       "    <tr style=\"text-align: right;\">\n",
       "      <th></th>\n",
       "      <th>Default Channel Grouping (Standard-Channelgruppierung)</th>\n",
       "      <th>Alter</th>\n",
       "      <th>Land</th>\n",
       "      <th>Absprungrate</th>\n",
       "      <th>Nutzer</th>\n",
       "      <th>Seiten/Sitzung</th>\n",
       "      <th>Durchschnittl. Sitzungsdauer</th>\n",
       "      <th>Eindeutige Ereignisse</th>\n",
       "      <th>Hinzufügungen des Produkts zum Einkaufswagen</th>\n",
       "      <th>Purchase Completed (Abschlüsse für Zielvorhaben 1)</th>\n",
       "      <th>E-Commerce-Conversion-Rate</th>\n",
       "      <th>Durchschn. Preis</th>\n",
       "      <th>Durchschn. Bestellwert</th>\n",
       "      <th>Gesamtwert</th>\n",
       "      <th>Umsatz</th>\n",
       "    </tr>\n",
       "  </thead>\n",
       "  <tbody>\n",
       "    <tr>\n",
       "      <th>0</th>\n",
       "      <td>Display</td>\n",
       "      <td>65+</td>\n",
       "      <td>Mexico</td>\n",
       "      <td>100,00 %</td>\n",
       "      <td>79</td>\n",
       "      <td>1.00</td>\n",
       "      <td>00:00:00</td>\n",
       "      <td>0</td>\n",
       "      <td>0</td>\n",
       "      <td>0</td>\n",
       "      <td>0,00 %</td>\n",
       "      <td>0,00 $</td>\n",
       "      <td>0,00 $</td>\n",
       "      <td>0,00 $</td>\n",
       "      <td>0,00 $</td>\n",
       "    </tr>\n",
       "    <tr>\n",
       "      <th>1</th>\n",
       "      <td>Display</td>\n",
       "      <td>65+</td>\n",
       "      <td>Canada</td>\n",
       "      <td>96,65 %</td>\n",
       "      <td>188</td>\n",
       "      <td>1.17</td>\n",
       "      <td>00:00:04</td>\n",
       "      <td>22</td>\n",
       "      <td>0</td>\n",
       "      <td>0</td>\n",
       "      <td>0,00 %</td>\n",
       "      <td>0,00 $</td>\n",
       "      <td>0,00 $</td>\n",
       "      <td>0,00 $</td>\n",
       "      <td>0,00 $</td>\n",
       "    </tr>\n",
       "    <tr>\n",
       "      <th>2</th>\n",
       "      <td>Social</td>\n",
       "      <td>55-64</td>\n",
       "      <td>Italy</td>\n",
       "      <td>94,23 %</td>\n",
       "      <td>231</td>\n",
       "      <td>1.11</td>\n",
       "      <td>00:00:08</td>\n",
       "      <td>22</td>\n",
       "      <td>0</td>\n",
       "      <td>0</td>\n",
       "      <td>0,00 %</td>\n",
       "      <td>0,00 $</td>\n",
       "      <td>0,00 $</td>\n",
       "      <td>0,00 $</td>\n",
       "      <td>0,00 $</td>\n",
       "    </tr>\n",
       "    <tr>\n",
       "      <th>3</th>\n",
       "      <td>Display</td>\n",
       "      <td>35-44</td>\n",
       "      <td>Saudi Arabia</td>\n",
       "      <td>93,50 %</td>\n",
       "      <td>101</td>\n",
       "      <td>1.11</td>\n",
       "      <td>00:00:04</td>\n",
       "      <td>0</td>\n",
       "      <td>0</td>\n",
       "      <td>0</td>\n",
       "      <td>0,00 %</td>\n",
       "      <td>0,00 $</td>\n",
       "      <td>0,00 $</td>\n",
       "      <td>0,00 $</td>\n",
       "      <td>0,00 $</td>\n",
       "    </tr>\n",
       "    <tr>\n",
       "      <th>4</th>\n",
       "      <td>Display</td>\n",
       "      <td>25-34</td>\n",
       "      <td>Argentina</td>\n",
       "      <td>92,02 %</td>\n",
       "      <td>79</td>\n",
       "      <td>1.07</td>\n",
       "      <td>00:00:48</td>\n",
       "      <td>0</td>\n",
       "      <td>0</td>\n",
       "      <td>0</td>\n",
       "      <td>0,00 %</td>\n",
       "      <td>0,00 $</td>\n",
       "      <td>0,00 $</td>\n",
       "      <td>0,00 $</td>\n",
       "      <td>0,00 $</td>\n",
       "    </tr>\n",
       "  </tbody>\n",
       "</table>\n",
       "</div>"
      ],
      "text/plain": [
       "  Default Channel Grouping (Standard-Channelgruppierung)  Alter          Land  \\\n",
       "0                                            Display        65+        Mexico   \n",
       "1                                            Display        65+        Canada   \n",
       "2                                             Social      55-64         Italy   \n",
       "3                                            Display      35-44  Saudi Arabia   \n",
       "4                                            Display      25-34     Argentina   \n",
       "\n",
       "  Absprungrate Nutzer  Seiten/Sitzung Durchschnittl. Sitzungsdauer  \\\n",
       "0     100,00 %     79            1.00                     00:00:00   \n",
       "1      96,65 %    188            1.17                     00:00:04   \n",
       "2      94,23 %    231            1.11                     00:00:08   \n",
       "3      93,50 %    101            1.11                     00:00:04   \n",
       "4      92,02 %     79            1.07                     00:00:48   \n",
       "\n",
       "  Eindeutige Ereignisse Hinzufügungen des Produkts zum Einkaufswagen  \\\n",
       "0                     0                                            0   \n",
       "1                    22                                            0   \n",
       "2                    22                                            0   \n",
       "3                     0                                            0   \n",
       "4                     0                                            0   \n",
       "\n",
       "  Purchase Completed (Abschlüsse für Zielvorhaben 1)  \\\n",
       "0                                                  0   \n",
       "1                                                  0   \n",
       "2                                                  0   \n",
       "3                                                  0   \n",
       "4                                                  0   \n",
       "\n",
       "  E-Commerce-Conversion-Rate Durchschn. Preis Durchschn. Bestellwert  \\\n",
       "0                     0,00 %           0,00 $                 0,00 $   \n",
       "1                     0,00 %           0,00 $                 0,00 $   \n",
       "2                     0,00 %           0,00 $                 0,00 $   \n",
       "3                     0,00 %           0,00 $                 0,00 $   \n",
       "4                     0,00 %           0,00 $                 0,00 $   \n",
       "\n",
       "  Gesamtwert  Umsatz  \n",
       "0     0,00 $  0,00 $  \n",
       "1     0,00 $  0,00 $  \n",
       "2     0,00 $  0,00 $  \n",
       "3     0,00 $  0,00 $  \n",
       "4     0,00 $  0,00 $  "
      ]
     },
     "execution_count": 38,
     "metadata": {},
     "output_type": "execute_result"
    }
   ],
   "source": [
    "# show the first 5 rows (i.e. head of the DataFrame)\n",
    "df.head(5)"
   ]
  },
  {
   "cell_type": "code",
   "execution_count": 39,
   "metadata": {},
   "outputs": [
    {
     "data": {
      "text/plain": [
       "Index(['Default Channel Grouping (Standard-Channelgruppierung)', 'Alter',\n",
       "       'Land', 'Absprungrate', 'Nutzer', 'Seiten/Sitzung',\n",
       "       'Durchschnittl. Sitzungsdauer', 'Eindeutige Ereignisse',\n",
       "       'Hinzufügungen des Produkts zum Einkaufswagen',\n",
       "       'Purchase Completed (Abschlüsse für Zielvorhaben 1)',\n",
       "       'E-Commerce-Conversion-Rate', 'Durchschn. Preis',\n",
       "       'Durchschn. Bestellwert', 'Gesamtwert', 'Umsatz'],\n",
       "      dtype='object')"
      ]
     },
     "execution_count": 39,
     "metadata": {},
     "output_type": "execute_result"
    }
   ],
   "source": [
    "# show all variables in the data set\n",
    "df.columns"
   ]
  },
  {
   "cell_type": "code",
   "execution_count": 40,
   "metadata": {},
   "outputs": [],
   "source": [
    "# Select relevant columns for data cleaning\n",
    "cols = ['Absprungrate', 'E-Commerce-Conversion-Rate', \n",
    "        'Durchschn. Preis', 'Durchschn. Bestellwert', \n",
    "        'Gesamtwert', 'Umsatz']\n",
    "# Remove thousand sep (.), replace decimal symbol, remove unit symbol and whitespace\n",
    "df = df.replace({'\\.':'', ',':'.', '\\s*%\\s*':'','\\s*\\$\\s*':''}, regex=True)  \n",
    "# Convert Datatype\n",
    "df[cols] = df[cols].apply(pd.to_numeric, errors='coerce')"
   ]
  },
  {
   "cell_type": "code",
   "execution_count": 41,
   "metadata": {},
   "outputs": [],
   "source": [
    "# Rename Variables\n",
    "df = df.rename(index=str, \n",
    "               columns={\"Default Channel Grouping (Standard-Channelgruppierung)\": \"Channel\", \n",
    "                        \"Durchschnittl. Sitzungsdauer\": \"Sitzungsdauer\",\n",
    "                        \"Hinzufügungen des Produkts zum Einkaufswagen\": \"Einkaufswagen\",\n",
    "                        \"Purchase Completed (Abschlüsse für Zielvorhaben 1)\": \"Purchase_Completed\",\n",
    "                        \"E-Commerce-Conversion-Rate\": \"Conversion_Rate\",\n",
    "                        \"Durchschn. Preis\": \"Preis\",\n",
    "                        \"Durchschn. Bestellwert\": \"Betsellwert\"})"
   ]
  },
  {
   "cell_type": "code",
   "execution_count": 42,
   "metadata": {},
   "outputs": [
    {
     "data": {
      "text/plain": [
       "25-34    341\n",
       "18-24    268\n",
       "35-44    266\n",
       "45-54    157\n",
       "55-64    104\n",
       "65+       84\n",
       "Name: Alter, dtype: int64"
      ]
     },
     "execution_count": 42,
     "metadata": {},
     "output_type": "execute_result"
    }
   ],
   "source": [
    "df['Alter'].value_counts() "
   ]
  },
  {
   "cell_type": "code",
   "execution_count": 43,
   "metadata": {},
   "outputs": [],
   "source": [
    "# convert to ordinal variable\n",
    "cat_Alter = CategoricalDtype(categories=\n",
    "                            ['18-24', \n",
    "                             '25-34', \n",
    "                             '35-44', \n",
    "                             '45-54', \n",
    "                             '55-64',\n",
    "                             '65+'],\n",
    "                            ordered=True)\n",
    "\n",
    "df.Alter = df.Alter.astype(cat_Alter)"
   ]
  },
  {
   "cell_type": "code",
   "execution_count": 44,
   "metadata": {},
   "outputs": [],
   "source": [
    "# change data types (one by one for demonstrational purposes)\n",
    "df.iloc[:,0] = pd.Categorical(df.iloc[:,0])\n",
    "df.iloc[:,1] = pd.Categorical(df.iloc[:,1])\n",
    "df.iloc[:,2] = pd.Categorical(df.iloc[:,2])\n",
    "df.iloc[:,3] = pd.to_numeric(df.iloc[:,3])\n",
    "df.iloc[:,4] = pd.to_numeric(df.iloc[:,4])\n",
    "df.iloc[:,5] = pd.to_numeric(df.iloc[:,5])\n",
    "df.iloc[:,7] = pd.to_numeric(df.iloc[:,7])\n",
    "df.iloc[:,8] = pd.to_numeric(df.iloc[:,8])\n",
    "df.iloc[:,9] = pd.to_numeric(df.iloc[:,9])\n",
    "df.iloc[:,10] = pd.to_numeric(df.iloc[:,10])\n",
    "df.iloc[:,11] = pd.to_numeric(df.iloc[:,11])\n",
    "df.iloc[:,12] = pd.to_numeric(df.iloc[:,12])\n",
    "df.iloc[:,13] = pd.to_numeric(df.iloc[:,13])\n",
    "df.iloc[:,14] = pd.to_numeric(df.iloc[:,14])"
   ]
  },
  {
   "cell_type": "code",
   "execution_count": 47,
   "metadata": {},
   "outputs": [
    {
     "name": "stdout",
     "output_type": "stream",
     "text": [
      "<class 'pandas.core.frame.DataFrame'>\n",
      "Index: 1220 entries, 0 to 1219\n",
      "Data columns (total 15 columns):\n",
      "Channel                  1220 non-null category\n",
      "Alter                    1220 non-null category\n",
      "Land                     1220 non-null category\n",
      "Absprungrate             1220 non-null float64\n",
      "Nutzer                   1220 non-null int64\n",
      "Seiten/Sitzung           1220 non-null float64\n",
      "Sitzungsdauer            1220 non-null object\n",
      "Eindeutige Ereignisse    1220 non-null int64\n",
      "Einkaufswagen            1220 non-null int64\n",
      "Purchase_Completed       1220 non-null int64\n",
      "Conversion_Rate          1220 non-null float64\n",
      "Preis                    1220 non-null float64\n",
      "Betsellwert              1220 non-null float64\n",
      "Gesamtwert               1220 non-null float64\n",
      "Umsatz                   1220 non-null float64\n",
      "dtypes: category(3), float64(7), int64(4), object(1)\n",
      "memory usage: 133.9+ KB\n"
     ]
    }
   ],
   "source": [
    "df.info()"
   ]
  },
  {
   "cell_type": "code",
   "execution_count": 46,
   "metadata": {},
   "outputs": [],
   "source": [
    "# Save clean data\n",
    "# df.to_csv(PATH + 'Webanalytics_merchandise.csv')"
   ]
  }
 ],
 "metadata": {
  "kernelspec": {
   "display_name": "Python 3",
   "language": "python",
   "name": "python3"
  },
  "language_info": {
   "codemirror_mode": {
    "name": "ipython",
    "version": 3
   },
   "file_extension": ".py",
   "mimetype": "text/x-python",
   "name": "python",
   "nbconvert_exporter": "python",
   "pygments_lexer": "ipython3",
   "version": "3.6.5"
  }
 },
 "nbformat": 4,
 "nbformat_minor": 2
}
